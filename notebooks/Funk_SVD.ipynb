{
 "cells": [
  {
   "cell_type": "markdown",
   "metadata": {},
   "source": [
    "# Funk SVD\n",
    "## ref: \n",
    "## 1. https://github.com/gbolmier/funk-svd\n",
    "## 2. https://sifter.org/simon/journal/20061211.html"
   ]
  },
  {
   "cell_type": "code",
   "execution_count": 1,
   "metadata": {},
   "outputs": [],
   "source": [
    "import numpy as np\n",
    "import pandas as pd"
   ]
  },
  {
   "cell_type": "code",
   "execution_count": 4,
   "metadata": {},
   "outputs": [],
   "source": [
    "from funk_svd.dataset import fetch_ml_ratings\n",
    "from funk_svd import SVD\n",
    "from sklearn.metrics import mean_absolute_error"
   ]
  },
  {
   "cell_type": "markdown",
   "metadata": {},
   "source": [
    "# 1. On explicit feedback problem"
   ]
  },
  {
   "cell_type": "code",
   "execution_count": 21,
   "metadata": {},
   "outputs": [],
   "source": [
    "df = fetch_ml_ratings(variant='100k', data_dir_path = '../data/movielens/ml-100k/u.data')"
   ]
  },
  {
   "cell_type": "code",
   "execution_count": 26,
   "metadata": {},
   "outputs": [
    {
     "data": {
      "text/html": [
       "<div>\n",
       "<style scoped>\n",
       "    .dataframe tbody tr th:only-of-type {\n",
       "        vertical-align: middle;\n",
       "    }\n",
       "\n",
       "    .dataframe tbody tr th {\n",
       "        vertical-align: top;\n",
       "    }\n",
       "\n",
       "    .dataframe thead th {\n",
       "        text-align: right;\n",
       "    }\n",
       "</style>\n",
       "<table border=\"1\" class=\"dataframe\">\n",
       "  <thead>\n",
       "    <tr style=\"text-align: right;\">\n",
       "      <th></th>\n",
       "      <th>u_id</th>\n",
       "      <th>i_id</th>\n",
       "      <th>rating</th>\n",
       "      <th>timestamp</th>\n",
       "    </tr>\n",
       "  </thead>\n",
       "  <tbody>\n",
       "    <tr>\n",
       "      <th>0</th>\n",
       "      <td>259</td>\n",
       "      <td>255</td>\n",
       "      <td>4.0</td>\n",
       "      <td>1997-09-19 23:05:10</td>\n",
       "    </tr>\n",
       "    <tr>\n",
       "      <th>1</th>\n",
       "      <td>259</td>\n",
       "      <td>286</td>\n",
       "      <td>4.0</td>\n",
       "      <td>1997-09-19 23:05:27</td>\n",
       "    </tr>\n",
       "    <tr>\n",
       "      <th>2</th>\n",
       "      <td>259</td>\n",
       "      <td>298</td>\n",
       "      <td>4.0</td>\n",
       "      <td>1997-09-19 23:05:54</td>\n",
       "    </tr>\n",
       "    <tr>\n",
       "      <th>3</th>\n",
       "      <td>259</td>\n",
       "      <td>185</td>\n",
       "      <td>4.0</td>\n",
       "      <td>1997-09-19 23:06:21</td>\n",
       "    </tr>\n",
       "    <tr>\n",
       "      <th>4</th>\n",
       "      <td>259</td>\n",
       "      <td>173</td>\n",
       "      <td>4.0</td>\n",
       "      <td>1997-09-19 23:07:23</td>\n",
       "    </tr>\n",
       "  </tbody>\n",
       "</table>\n",
       "</div>"
      ],
      "text/plain": [
       "   u_id  i_id  rating           timestamp\n",
       "0   259   255     4.0 1997-09-19 23:05:10\n",
       "1   259   286     4.0 1997-09-19 23:05:27\n",
       "2   259   298     4.0 1997-09-19 23:05:54\n",
       "3   259   185     4.0 1997-09-19 23:06:21\n",
       "4   259   173     4.0 1997-09-19 23:07:23"
      ]
     },
     "execution_count": 26,
     "metadata": {},
     "output_type": "execute_result"
    }
   ],
   "source": [
    "df.head()"
   ]
  },
  {
   "cell_type": "code",
   "execution_count": 22,
   "metadata": {},
   "outputs": [],
   "source": [
    "train = df.sample(frac=0.8, random_state=7)\n",
    "val = df.drop(train.index.tolist()).sample(frac=0.5, random_state=8)\n",
    "test = df.drop(train.index.tolist()).drop(val.index.tolist())"
   ]
  },
  {
   "cell_type": "code",
   "execution_count": 23,
   "metadata": {},
   "outputs": [],
   "source": [
    "svd = SVD(learning_rate=0.001, regularization=0.005, n_epochs=200, n_factors=15, min_rating=1, max_rating=5)"
   ]
  },
  {
   "cell_type": "code",
   "execution_count": 24,
   "metadata": {},
   "outputs": [
    {
     "name": "stdout",
     "output_type": "stream",
     "text": [
      "Preprocessing data...\n",
      "\n",
      "Epoch 1/200  | val_loss: 1.17 - val_rmse: 1.08 - val_mae: 0.91 - took 0.0 sec\n",
      "Epoch 2/200  | val_loss: 1.11 - val_rmse: 1.05 - val_mae: 0.87 - took 0.0 sec\n",
      "Epoch 3/200  | val_loss: 1.07 - val_rmse: 1.03 - val_mae: 0.85 - took 0.0 sec\n",
      "Epoch 4/200  | val_loss: 1.04 - val_rmse: 1.02 - val_mae: 0.83 - took 0.0 sec\n",
      "Epoch 5/200  | val_loss: 1.02 - val_rmse: 1.01 - val_mae: 0.82 - took 0.0 sec\n",
      "Epoch 6/200  | val_loss: 1.00 - val_rmse: 1.00 - val_mae: 0.81 - took 0.0 sec\n",
      "Epoch 7/200  | val_loss: 0.99 - val_rmse: 1.00 - val_mae: 0.80 - took 0.0 sec\n",
      "Epoch 8/200  | val_loss: 0.98 - val_rmse: 0.99 - val_mae: 0.80 - took 0.0 sec\n",
      "Epoch 9/200  | val_loss: 0.97 - val_rmse: 0.99 - val_mae: 0.79 - took 0.0 sec\n",
      "Epoch 10/200 | val_loss: 0.96 - val_rmse: 0.98 - val_mae: 0.79 - took 0.0 sec\n",
      "Epoch 11/200 | val_loss: 0.96 - val_rmse: 0.98 - val_mae: 0.78 - took 0.0 sec\n",
      "Epoch 12/200 | val_loss: 0.95 - val_rmse: 0.98 - val_mae: 0.78 - took 0.0 sec\n",
      "Epoch 13/200 | val_loss: 0.95 - val_rmse: 0.97 - val_mae: 0.78 - took 0.0 sec\n",
      "Epoch 14/200 | val_loss: 0.94 - val_rmse: 0.97 - val_mae: 0.77 - took 0.0 sec\n",
      "Epoch 15/200 | val_loss: 0.94 - val_rmse: 0.97 - val_mae: 0.77 - took 0.0 sec\n",
      "Epoch 16/200 | val_loss: 0.94 - val_rmse: 0.97 - val_mae: 0.77 - took 0.0 sec\n",
      "Epoch 17/200 | val_loss: 0.93 - val_rmse: 0.97 - val_mae: 0.77 - took 0.0 sec\n",
      "Epoch 18/200 | val_loss: 0.93 - val_rmse: 0.97 - val_mae: 0.77 - took 0.0 sec\n",
      "Epoch 19/200 | val_loss: 0.93 - val_rmse: 0.96 - val_mae: 0.77 - took 0.0 sec\n",
      "Epoch 20/200 | val_loss: 0.93 - val_rmse: 0.96 - val_mae: 0.77 - took 0.0 sec\n",
      "Epoch 21/200 | val_loss: 0.92 - val_rmse: 0.96 - val_mae: 0.76 - took 0.0 sec\n",
      "Epoch 22/200 | val_loss: 0.92 - val_rmse: 0.96 - val_mae: 0.76 - took 0.0 sec\n",
      "Epoch 23/200 | val_loss: 0.92 - val_rmse: 0.96 - val_mae: 0.76 - took 0.0 sec\n",
      "\n",
      "Training took 0 sec\n"
     ]
    },
    {
     "data": {
      "text/plain": [
       "<funk_svd.svd.SVD at 0x7f8ed9eff940>"
      ]
     },
     "execution_count": 24,
     "metadata": {},
     "output_type": "execute_result"
    }
   ],
   "source": [
    "svd.fit(X=train, X_val=val, early_stopping=True, shuffle=False)"
   ]
  },
  {
   "cell_type": "code",
   "execution_count": 25,
   "metadata": {},
   "outputs": [
    {
     "name": "stdout",
     "output_type": "stream",
     "text": [
      "Test MAE: 0.75\n"
     ]
    }
   ],
   "source": [
    "pred = svd.predict(test)\n",
    "mae = mean_absolute_error(test['rating'], pred)\n",
    "print(f'Test MAE: {mae:.2f}')"
   ]
  },
  {
   "cell_type": "code",
   "execution_count": 28,
   "metadata": {},
   "outputs": [],
   "source": [
    "#pred"
   ]
  },
  {
   "cell_type": "markdown",
   "metadata": {},
   "source": [
    "# 2. On implicit feedback problem"
   ]
  },
  {
   "cell_type": "code",
   "execution_count": null,
   "metadata": {},
   "outputs": [],
   "source": []
  }
 ],
 "metadata": {
  "kernelspec": {
   "display_name": "venv_P3.7",
   "language": "python",
   "name": "venv_p3.7"
  },
  "language_info": {
   "codemirror_mode": {
    "name": "ipython",
    "version": 3
   },
   "file_extension": ".py",
   "mimetype": "text/x-python",
   "name": "python",
   "nbconvert_exporter": "python",
   "pygments_lexer": "ipython3",
   "version": "3.7.1"
  }
 },
 "nbformat": 4,
 "nbformat_minor": 2
}
